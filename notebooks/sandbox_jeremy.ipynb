{
 "cells": [
  {
   "cell_type": "markdown",
   "id": "b21fef24",
   "metadata": {},
   "source": [
    "# Notebook test"
   ]
  },
  {
   "cell_type": "markdown",
   "id": "f424ad04",
   "metadata": {},
   "source": [
    "## Create data in the folders"
   ]
  },
  {
   "cell_type": "code",
   "execution_count": 1,
   "id": "f74c1172",
   "metadata": {
    "ExecuteTime": {
     "end_time": "2022-03-01T13:18:48.917601Z",
     "start_time": "2022-03-01T13:18:48.914072Z"
    }
   },
   "outputs": [],
   "source": [
    "from PIL import Image\n",
    "import matplotlib.pyplot as plt\n",
    "from tensorflow.keras.backend import expand_dims\n",
    "from tensorflow.keras import regularizers\n",
    "from tensorflow.keras import optimizers\n",
    "import os\n",
    "import pandas as pd\n",
    "import numpy as np\n",
    "import math"
   ]
  },
  {
   "cell_type": "code",
   "execution_count": 12,
   "id": "cead9f5b",
   "metadata": {
    "ExecuteTime": {
     "end_time": "2022-03-01T10:46:25.264233Z",
     "start_time": "2022-03-01T10:46:25.259751Z"
    }
   },
   "outputs": [],
   "source": [
    "def create_set(path_origin, path_destination, n_image = 100):\n",
    "    mapping = {'picture_id':[], 'angle' :[]}\n",
    "    name = 0\n",
    "    for image in os.listdir(path_origin):\n",
    "        original_image = Image.open(path_origin + \"\\\\\" + image)\n",
    "        # Rotate Image\n",
    "        for i in range(n_image):\n",
    "            angle = np.random.uniform(0,360)\n",
    "            rotated_image = original_image.rotate(angle).crop((660,240,1260,840)).resize((64,64))\n",
    "            rotated_image.save(path_destination + '\\\\' + f'{name}.png')\n",
    "            mapping['picture_id'].append(name)\n",
    "            mapping['angle'].append(angle)\n",
    "            name += 1\n",
    "\n",
    "    df = pd.DataFrame(mapping)\n",
    "    path_destination_csv = os.path.join(path_destination, 'angles.csv')\n",
    "    df.to_csv(path_destination_csv,index=False)\n",
    "    return path_destination"
   ]
  },
  {
   "cell_type": "markdown",
   "id": "58a00b06",
   "metadata": {},
   "source": [
    "### Train data"
   ]
  },
  {
   "cell_type": "code",
   "execution_count": 7,
   "id": "83812ade",
   "metadata": {
    "ExecuteTime": {
     "end_time": "2022-03-01T11:09:27.015045Z",
     "start_time": "2022-03-01T11:09:27.011754Z"
    }
   },
   "outputs": [],
   "source": [
    "path_origin_train = os.path.join(os.path.dirname(os.getcwd()), 'raw_data', 'zero_angle')\n",
    "path_destination_train = os.path.join(os.path.dirname(os.getcwd()), 'raw_data', 'training_pictures')"
   ]
  },
  {
   "cell_type": "code",
   "execution_count": 14,
   "id": "feaa329d",
   "metadata": {},
   "outputs": [
    {
     "data": {
      "text/plain": [
       "'C:\\\\Users\\\\jmarc\\\\Documents\\\\code\\\\HeavenlyBodeep\\\\raw_data\\\\training_pictures'"
      ]
     },
     "execution_count": 14,
     "metadata": {},
     "output_type": "execute_result"
    }
   ],
   "source": [
    "path_destination_train"
   ]
  },
  {
   "cell_type": "code",
   "execution_count": 16,
   "id": "2ed07a5a",
   "metadata": {},
   "outputs": [],
   "source": []
  },
  {
   "cell_type": "code",
   "execution_count": 25,
   "id": "50194d99",
   "metadata": {
    "ExecuteTime": {
     "end_time": "2022-03-01T11:09:27.447648Z",
     "start_time": "2022-03-01T11:09:27.218890Z"
    }
   },
   "outputs": [],
   "source": [
    "! rm -rf C:\\\\Users\\\\jmarc\\\\Documents\\\\code\\\\HeavenlyBodeep\\\\raw_data\\\\training_pictures\n",
    "! mkdir C:\\\\Users\\\\jmarc\\\\Documents\\\\code\\\\HeavenlyBodeep\\\\raw_data\\\\training_pictures"
   ]
  },
  {
   "cell_type": "code",
   "execution_count": 26,
   "id": "2ea71ea5",
   "metadata": {
    "ExecuteTime": {
     "end_time": "2022-03-01T11:10:58.041874Z",
     "start_time": "2022-03-01T11:09:27.449966Z"
    }
   },
   "outputs": [
    {
     "data": {
      "text/plain": [
       "'C:\\\\Users\\\\jmarc\\\\Documents\\\\code\\\\HeavenlyBodeep\\\\raw_data\\\\training_pictures'"
      ]
     },
     "execution_count": 26,
     "metadata": {},
     "output_type": "execute_result"
    }
   ],
   "source": [
    "create_set(path_origin_train, path_destination_train, n_image=100)"
   ]
  },
  {
   "cell_type": "markdown",
   "id": "375ffb00",
   "metadata": {},
   "source": [
    "### Test data"
   ]
  },
  {
   "cell_type": "code",
   "execution_count": 20,
   "id": "ea7250fd",
   "metadata": {
    "ExecuteTime": {
     "end_time": "2022-03-01T11:10:58.046436Z",
     "start_time": "2022-03-01T11:10:58.043618Z"
    }
   },
   "outputs": [],
   "source": [
    "path_origin_test = os.path.join(os.path.dirname(os.getcwd()), 'raw_data', 'zero_angle_test')\n",
    "path_destination_test = os.path.join(os.path.dirname(os.getcwd()), 'raw_data', 'testing_pictures')"
   ]
  },
  {
   "cell_type": "code",
   "execution_count": 27,
   "id": "7ab4f010",
   "metadata": {
    "ExecuteTime": {
     "end_time": "2022-03-01T11:10:58.177250Z",
     "start_time": "2022-03-01T11:10:58.047823Z"
    }
   },
   "outputs": [],
   "source": [
    "! rm -rf C:\\\\Users\\\\jmarc\\\\Documents\\\\code\\\\HeavenlyBodeep\\\\raw_data\\\\testing_pictures\n",
    "! mkdir C:\\\\Users\\\\jmarc\\\\Documents\\\\code\\\\HeavenlyBodeep\\\\raw_data\\\\testing_pictures"
   ]
  },
  {
   "cell_type": "code",
   "execution_count": null,
   "id": "7f4de1cd",
   "metadata": {},
   "outputs": [],
   "source": []
  },
  {
   "cell_type": "code",
   "execution_count": 28,
   "id": "e982422e",
   "metadata": {
    "ExecuteTime": {
     "end_time": "2022-03-01T11:11:01.691585Z",
     "start_time": "2022-03-01T11:10:58.179512Z"
    }
   },
   "outputs": [
    {
     "data": {
      "text/plain": [
       "'C:\\\\Users\\\\jmarc\\\\Documents\\\\code\\\\HeavenlyBodeep\\\\raw_data\\\\testing_pictures'"
      ]
     },
     "execution_count": 28,
     "metadata": {},
     "output_type": "execute_result"
    }
   ],
   "source": [
    "create_set(path_origin_test, path_destination_test, n_image=50)"
   ]
  },
  {
   "cell_type": "markdown",
   "id": "ad060b5a",
   "metadata": {},
   "source": [
    "## Data preparation"
   ]
  },
  {
   "cell_type": "code",
   "execution_count": 22,
   "id": "7f370f34",
   "metadata": {
    "ExecuteTime": {
     "end_time": "2022-03-01T10:02:11.357658Z",
     "start_time": "2022-03-01T10:02:11.352906Z"
    }
   },
   "outputs": [],
   "source": [
    "def create_xy(path):\n",
    "    df = pd.read_csv(os.path.join(path, 'angles.csv'))\n",
    "    df['cos'] = np.cos(df['angle']* np.pi / 180)\n",
    "    df['sin'] = np.sin(df['angle']* np.pi / 180)\n",
    "    y = np.array(df.drop(['angle', 'picture_id'], axis=1))\n",
    "    X = []\n",
    "    X_index = list(df['picture_id'])\n",
    "    name = 0\n",
    "    for name in X_index:\n",
    "        pic = Image.open(os.path.join(path, f'{name}.png'))\n",
    "        X.append(np.array(pic)[:,:,0:3])\n",
    "    X = np.array(X)\n",
    "    return X, y"
   ]
  },
  {
   "cell_type": "code",
   "execution_count": 29,
   "id": "6eb066c3",
   "metadata": {
    "ExecuteTime": {
     "end_time": "2022-03-01T11:11:04.869961Z",
     "start_time": "2022-03-01T11:11:01.693184Z"
    }
   },
   "outputs": [],
   "source": [
    "X_train, y_train = create_xy(path_destination_train)"
   ]
  },
  {
   "cell_type": "code",
   "execution_count": 30,
   "id": "05052691",
   "metadata": {
    "ExecuteTime": {
     "end_time": "2022-03-01T11:11:04.985673Z",
     "start_time": "2022-03-01T11:11:04.871284Z"
    }
   },
   "outputs": [],
   "source": [
    "X_test, y_test = create_xy(path_destination_test)"
   ]
  },
  {
   "cell_type": "markdown",
   "id": "74d4590b",
   "metadata": {},
   "source": [
    "## Modeling"
   ]
  },
  {
   "cell_type": "code",
   "execution_count": null,
   "id": "40c48039",
   "metadata": {},
   "outputs": [],
   "source": []
  },
  {
   "cell_type": "code",
   "execution_count": 31,
   "id": "44ffb90f",
   "metadata": {
    "ExecuteTime": {
     "end_time": "2022-03-01T13:19:09.890113Z",
     "start_time": "2022-03-01T13:19:09.837270Z"
    }
   },
   "outputs": [],
   "source": [
    "from tensorflow.keras import layers, models\n",
    "\n",
    "reg_l1 = regularizers.L1(0.01)\n",
    "adam = optimizers.Adam(learning_rate=0.001)\n",
    "\n",
    "model = models.Sequential()\n",
    "model.add(layers.Rescaling(1./255, input_shape=X_train[0].shape))\n",
    "model.add(layers.Conv2D(16, (3,3), padding='same', activation=\"relu\"))\n",
    "model.add(layers.Dropout(rate=0.15))\n",
    "model.add(layers.MaxPool2D(pool_size=(2,2)))\n",
    "model.add(layers.Conv2D(32, (3,3), padding='same', activation=\"relu\"))\n",
    "model.add(layers.Dropout(rate=0.15))\n",
    "model.add(layers.Conv2D(8, (3,3), padding='same', activation=\"relu\"))\n",
    "model.add(layers.Dropout(rate=0.15))\n",
    "model.add(layers.Conv2D(8, (3,3), padding='same', activation=\"relu\"))\n",
    "model.add(layers.Dropout(rate=0.15))\n",
    "# model.add(layers.Conv2D(8, (3,3), padding='same', activation=\"relu\"))\n",
    "# model.add(layers.Dropout(rate=0.15))\n",
    "model.add(layers.Flatten())\n",
    "model.add(layers.Dense(50, activation='relu')) # intermediate layer - add : kernel_regularizer=reg_l1\n",
    "\n",
    "model.add(layers.Dense(2, activation='linear'))\n",
    "\n",
    "model.compile(loss='mse',\n",
    "          optimizer=adam,\n",
    "          metrics=['mse'])"
   ]
  },
  {
   "cell_type": "code",
   "execution_count": 32,
   "id": "4b10f36f",
   "metadata": {
    "ExecuteTime": {
     "end_time": "2022-03-01T13:21:48.660462Z",
     "start_time": "2022-03-01T13:19:10.038639Z"
    },
    "scrolled": false
   },
   "outputs": [
    {
     "name": "stdout",
     "output_type": "stream",
     "text": [
      "Epoch 1/50\n",
      "1900/1900 [==============================] - 12s 6ms/step - loss: 0.4024 - mse: 0.4024 - val_loss: 0.7087 - val_mse: 0.7087\n",
      "Epoch 2/50\n",
      "1900/1900 [==============================] - 15s 8ms/step - loss: 0.1814 - mse: 0.1814 - val_loss: 0.6751 - val_mse: 0.6751\n",
      "Epoch 3/50\n",
      "1900/1900 [==============================] - 18s 10ms/step - loss: 0.0873 - mse: 0.0873 - val_loss: 0.7198 - val_mse: 0.7198\n",
      "Epoch 4/50\n",
      " 301/1900 [===>..........................] - ETA: 14s - loss: 0.0530 - mse: 0.0530"
     ]
    },
    {
     "ename": "KeyboardInterrupt",
     "evalue": "",
     "output_type": "error",
     "traceback": [
      "\u001b[1;31m---------------------------------------------------------------------------\u001b[0m",
      "\u001b[1;31mKeyboardInterrupt\u001b[0m                         Traceback (most recent call last)",
      "\u001b[1;32m~\\AppData\\Local\\Temp/ipykernel_3116/2451094486.py\u001b[0m in \u001b[0;36m<module>\u001b[1;34m\u001b[0m\n\u001b[0;32m      1\u001b[0m \u001b[1;32mfrom\u001b[0m \u001b[0mtensorflow\u001b[0m\u001b[1;33m.\u001b[0m\u001b[0mkeras\u001b[0m\u001b[1;33m.\u001b[0m\u001b[0mcallbacks\u001b[0m \u001b[1;32mimport\u001b[0m \u001b[0mEarlyStopping\u001b[0m\u001b[1;33m\u001b[0m\u001b[1;33m\u001b[0m\u001b[0m\n\u001b[0;32m      2\u001b[0m \u001b[0mes\u001b[0m \u001b[1;33m=\u001b[0m \u001b[0mEarlyStopping\u001b[0m\u001b[1;33m(\u001b[0m\u001b[0mpatience\u001b[0m\u001b[1;33m=\u001b[0m\u001b[1;36m4\u001b[0m\u001b[1;33m,\u001b[0m \u001b[0mrestore_best_weights\u001b[0m\u001b[1;33m=\u001b[0m\u001b[1;32mTrue\u001b[0m\u001b[1;33m)\u001b[0m\u001b[1;33m\u001b[0m\u001b[1;33m\u001b[0m\u001b[0m\n\u001b[1;32m----> 3\u001b[1;33m \u001b[0mhistory\u001b[0m \u001b[1;33m=\u001b[0m \u001b[0mmodel\u001b[0m\u001b[1;33m.\u001b[0m\u001b[0mfit\u001b[0m\u001b[1;33m(\u001b[0m\u001b[0mX_train\u001b[0m\u001b[1;33m,\u001b[0m \u001b[0my_train\u001b[0m\u001b[1;33m,\u001b[0m \u001b[0mvalidation_data\u001b[0m\u001b[1;33m=\u001b[0m\u001b[1;33m(\u001b[0m\u001b[0mX_test\u001b[0m\u001b[1;33m,\u001b[0m \u001b[0my_test\u001b[0m\u001b[1;33m)\u001b[0m\u001b[1;33m,\u001b[0m \u001b[0mbatch_size\u001b[0m\u001b[1;33m=\u001b[0m\u001b[1;36m1\u001b[0m\u001b[1;33m,\u001b[0m \u001b[0mepochs\u001b[0m\u001b[1;33m=\u001b[0m\u001b[1;36m50\u001b[0m\u001b[1;33m,\u001b[0m \u001b[0mcallbacks\u001b[0m\u001b[1;33m=\u001b[0m\u001b[1;33m[\u001b[0m\u001b[0mes\u001b[0m\u001b[1;33m]\u001b[0m\u001b[1;33m)\u001b[0m\u001b[1;33m\u001b[0m\u001b[1;33m\u001b[0m\u001b[0m\n\u001b[0m",
      "\u001b[1;32m~\\AppData\\Local\\Programs\\Python\\Python310\\lib\\site-packages\\keras\\utils\\traceback_utils.py\u001b[0m in \u001b[0;36merror_handler\u001b[1;34m(*args, **kwargs)\u001b[0m\n\u001b[0;32m     62\u001b[0m     \u001b[0mfiltered_tb\u001b[0m \u001b[1;33m=\u001b[0m \u001b[1;32mNone\u001b[0m\u001b[1;33m\u001b[0m\u001b[1;33m\u001b[0m\u001b[0m\n\u001b[0;32m     63\u001b[0m     \u001b[1;32mtry\u001b[0m\u001b[1;33m:\u001b[0m\u001b[1;33m\u001b[0m\u001b[1;33m\u001b[0m\u001b[0m\n\u001b[1;32m---> 64\u001b[1;33m       \u001b[1;32mreturn\u001b[0m \u001b[0mfn\u001b[0m\u001b[1;33m(\u001b[0m\u001b[1;33m*\u001b[0m\u001b[0margs\u001b[0m\u001b[1;33m,\u001b[0m \u001b[1;33m**\u001b[0m\u001b[0mkwargs\u001b[0m\u001b[1;33m)\u001b[0m\u001b[1;33m\u001b[0m\u001b[1;33m\u001b[0m\u001b[0m\n\u001b[0m\u001b[0;32m     65\u001b[0m     \u001b[1;32mexcept\u001b[0m \u001b[0mException\u001b[0m \u001b[1;32mas\u001b[0m \u001b[0me\u001b[0m\u001b[1;33m:\u001b[0m  \u001b[1;31m# pylint: disable=broad-except\u001b[0m\u001b[1;33m\u001b[0m\u001b[1;33m\u001b[0m\u001b[0m\n\u001b[0;32m     66\u001b[0m       \u001b[0mfiltered_tb\u001b[0m \u001b[1;33m=\u001b[0m \u001b[0m_process_traceback_frames\u001b[0m\u001b[1;33m(\u001b[0m\u001b[0me\u001b[0m\u001b[1;33m.\u001b[0m\u001b[0m__traceback__\u001b[0m\u001b[1;33m)\u001b[0m\u001b[1;33m\u001b[0m\u001b[1;33m\u001b[0m\u001b[0m\n",
      "\u001b[1;32m~\\AppData\\Local\\Programs\\Python\\Python310\\lib\\site-packages\\keras\\engine\\training.py\u001b[0m in \u001b[0;36mfit\u001b[1;34m(self, x, y, batch_size, epochs, verbose, callbacks, validation_split, validation_data, shuffle, class_weight, sample_weight, initial_epoch, steps_per_epoch, validation_steps, validation_batch_size, validation_freq, max_queue_size, workers, use_multiprocessing)\u001b[0m\n\u001b[0;32m   1382\u001b[0m                 _r=1):\n\u001b[0;32m   1383\u001b[0m               \u001b[0mcallbacks\u001b[0m\u001b[1;33m.\u001b[0m\u001b[0mon_train_batch_begin\u001b[0m\u001b[1;33m(\u001b[0m\u001b[0mstep\u001b[0m\u001b[1;33m)\u001b[0m\u001b[1;33m\u001b[0m\u001b[1;33m\u001b[0m\u001b[0m\n\u001b[1;32m-> 1384\u001b[1;33m               \u001b[0mtmp_logs\u001b[0m \u001b[1;33m=\u001b[0m \u001b[0mself\u001b[0m\u001b[1;33m.\u001b[0m\u001b[0mtrain_function\u001b[0m\u001b[1;33m(\u001b[0m\u001b[0miterator\u001b[0m\u001b[1;33m)\u001b[0m\u001b[1;33m\u001b[0m\u001b[1;33m\u001b[0m\u001b[0m\n\u001b[0m\u001b[0;32m   1385\u001b[0m               \u001b[1;32mif\u001b[0m \u001b[0mdata_handler\u001b[0m\u001b[1;33m.\u001b[0m\u001b[0mshould_sync\u001b[0m\u001b[1;33m:\u001b[0m\u001b[1;33m\u001b[0m\u001b[1;33m\u001b[0m\u001b[0m\n\u001b[0;32m   1386\u001b[0m                 \u001b[0mcontext\u001b[0m\u001b[1;33m.\u001b[0m\u001b[0masync_wait\u001b[0m\u001b[1;33m(\u001b[0m\u001b[1;33m)\u001b[0m\u001b[1;33m\u001b[0m\u001b[1;33m\u001b[0m\u001b[0m\n",
      "\u001b[1;32m~\\AppData\\Local\\Programs\\Python\\Python310\\lib\\site-packages\\tensorflow\\python\\util\\traceback_utils.py\u001b[0m in \u001b[0;36merror_handler\u001b[1;34m(*args, **kwargs)\u001b[0m\n\u001b[0;32m    148\u001b[0m     \u001b[0mfiltered_tb\u001b[0m \u001b[1;33m=\u001b[0m \u001b[1;32mNone\u001b[0m\u001b[1;33m\u001b[0m\u001b[1;33m\u001b[0m\u001b[0m\n\u001b[0;32m    149\u001b[0m     \u001b[1;32mtry\u001b[0m\u001b[1;33m:\u001b[0m\u001b[1;33m\u001b[0m\u001b[1;33m\u001b[0m\u001b[0m\n\u001b[1;32m--> 150\u001b[1;33m       \u001b[1;32mreturn\u001b[0m \u001b[0mfn\u001b[0m\u001b[1;33m(\u001b[0m\u001b[1;33m*\u001b[0m\u001b[0margs\u001b[0m\u001b[1;33m,\u001b[0m \u001b[1;33m**\u001b[0m\u001b[0mkwargs\u001b[0m\u001b[1;33m)\u001b[0m\u001b[1;33m\u001b[0m\u001b[1;33m\u001b[0m\u001b[0m\n\u001b[0m\u001b[0;32m    151\u001b[0m     \u001b[1;32mexcept\u001b[0m \u001b[0mException\u001b[0m \u001b[1;32mas\u001b[0m \u001b[0me\u001b[0m\u001b[1;33m:\u001b[0m\u001b[1;33m\u001b[0m\u001b[1;33m\u001b[0m\u001b[0m\n\u001b[0;32m    152\u001b[0m       \u001b[0mfiltered_tb\u001b[0m \u001b[1;33m=\u001b[0m \u001b[0m_process_traceback_frames\u001b[0m\u001b[1;33m(\u001b[0m\u001b[0me\u001b[0m\u001b[1;33m.\u001b[0m\u001b[0m__traceback__\u001b[0m\u001b[1;33m)\u001b[0m\u001b[1;33m\u001b[0m\u001b[1;33m\u001b[0m\u001b[0m\n",
      "\u001b[1;32m~\\AppData\\Local\\Programs\\Python\\Python310\\lib\\site-packages\\tensorflow\\python\\eager\\def_function.py\u001b[0m in \u001b[0;36m__call__\u001b[1;34m(self, *args, **kwds)\u001b[0m\n\u001b[0;32m    913\u001b[0m \u001b[1;33m\u001b[0m\u001b[0m\n\u001b[0;32m    914\u001b[0m       \u001b[1;32mwith\u001b[0m \u001b[0mOptionalXlaContext\u001b[0m\u001b[1;33m(\u001b[0m\u001b[0mself\u001b[0m\u001b[1;33m.\u001b[0m\u001b[0m_jit_compile\u001b[0m\u001b[1;33m)\u001b[0m\u001b[1;33m:\u001b[0m\u001b[1;33m\u001b[0m\u001b[1;33m\u001b[0m\u001b[0m\n\u001b[1;32m--> 915\u001b[1;33m         \u001b[0mresult\u001b[0m \u001b[1;33m=\u001b[0m \u001b[0mself\u001b[0m\u001b[1;33m.\u001b[0m\u001b[0m_call\u001b[0m\u001b[1;33m(\u001b[0m\u001b[1;33m*\u001b[0m\u001b[0margs\u001b[0m\u001b[1;33m,\u001b[0m \u001b[1;33m**\u001b[0m\u001b[0mkwds\u001b[0m\u001b[1;33m)\u001b[0m\u001b[1;33m\u001b[0m\u001b[1;33m\u001b[0m\u001b[0m\n\u001b[0m\u001b[0;32m    916\u001b[0m \u001b[1;33m\u001b[0m\u001b[0m\n\u001b[0;32m    917\u001b[0m       \u001b[0mnew_tracing_count\u001b[0m \u001b[1;33m=\u001b[0m \u001b[0mself\u001b[0m\u001b[1;33m.\u001b[0m\u001b[0mexperimental_get_tracing_count\u001b[0m\u001b[1;33m(\u001b[0m\u001b[1;33m)\u001b[0m\u001b[1;33m\u001b[0m\u001b[1;33m\u001b[0m\u001b[0m\n",
      "\u001b[1;32m~\\AppData\\Local\\Programs\\Python\\Python310\\lib\\site-packages\\tensorflow\\python\\eager\\def_function.py\u001b[0m in \u001b[0;36m_call\u001b[1;34m(self, *args, **kwds)\u001b[0m\n\u001b[0;32m    945\u001b[0m       \u001b[1;31m# In this case we have created variables on the first call, so we run the\u001b[0m\u001b[1;33m\u001b[0m\u001b[1;33m\u001b[0m\u001b[0m\n\u001b[0;32m    946\u001b[0m       \u001b[1;31m# defunned version which is guaranteed to never create variables.\u001b[0m\u001b[1;33m\u001b[0m\u001b[1;33m\u001b[0m\u001b[0m\n\u001b[1;32m--> 947\u001b[1;33m       \u001b[1;32mreturn\u001b[0m \u001b[0mself\u001b[0m\u001b[1;33m.\u001b[0m\u001b[0m_stateless_fn\u001b[0m\u001b[1;33m(\u001b[0m\u001b[1;33m*\u001b[0m\u001b[0margs\u001b[0m\u001b[1;33m,\u001b[0m \u001b[1;33m**\u001b[0m\u001b[0mkwds\u001b[0m\u001b[1;33m)\u001b[0m  \u001b[1;31m# pylint: disable=not-callable\u001b[0m\u001b[1;33m\u001b[0m\u001b[1;33m\u001b[0m\u001b[0m\n\u001b[0m\u001b[0;32m    948\u001b[0m     \u001b[1;32melif\u001b[0m \u001b[0mself\u001b[0m\u001b[1;33m.\u001b[0m\u001b[0m_stateful_fn\u001b[0m \u001b[1;32mis\u001b[0m \u001b[1;32mnot\u001b[0m \u001b[1;32mNone\u001b[0m\u001b[1;33m:\u001b[0m\u001b[1;33m\u001b[0m\u001b[1;33m\u001b[0m\u001b[0m\n\u001b[0;32m    949\u001b[0m       \u001b[1;31m# Release the lock early so that multiple threads can perform the call\u001b[0m\u001b[1;33m\u001b[0m\u001b[1;33m\u001b[0m\u001b[0m\n",
      "\u001b[1;32m~\\AppData\\Local\\Programs\\Python\\Python310\\lib\\site-packages\\tensorflow\\python\\eager\\function.py\u001b[0m in \u001b[0;36m__call__\u001b[1;34m(self, *args, **kwargs)\u001b[0m\n\u001b[0;32m   2954\u001b[0m       (graph_function,\n\u001b[0;32m   2955\u001b[0m        filtered_flat_args) = self._maybe_define_function(args, kwargs)\n\u001b[1;32m-> 2956\u001b[1;33m     return graph_function._call_flat(\n\u001b[0m\u001b[0;32m   2957\u001b[0m         filtered_flat_args, captured_inputs=graph_function.captured_inputs)  # pylint: disable=protected-access\n\u001b[0;32m   2958\u001b[0m \u001b[1;33m\u001b[0m\u001b[0m\n",
      "\u001b[1;32m~\\AppData\\Local\\Programs\\Python\\Python310\\lib\\site-packages\\tensorflow\\python\\eager\\function.py\u001b[0m in \u001b[0;36m_call_flat\u001b[1;34m(self, args, captured_inputs, cancellation_manager)\u001b[0m\n\u001b[0;32m   1851\u001b[0m         and executing_eagerly):\n\u001b[0;32m   1852\u001b[0m       \u001b[1;31m# No tape is watching; skip to running the function.\u001b[0m\u001b[1;33m\u001b[0m\u001b[1;33m\u001b[0m\u001b[0m\n\u001b[1;32m-> 1853\u001b[1;33m       return self._build_call_outputs(self._inference_function.call(\n\u001b[0m\u001b[0;32m   1854\u001b[0m           ctx, args, cancellation_manager=cancellation_manager))\n\u001b[0;32m   1855\u001b[0m     forward_backward = self._select_forward_and_backward_functions(\n",
      "\u001b[1;32m~\\AppData\\Local\\Programs\\Python\\Python310\\lib\\site-packages\\tensorflow\\python\\eager\\function.py\u001b[0m in \u001b[0;36mcall\u001b[1;34m(self, ctx, args, cancellation_manager)\u001b[0m\n\u001b[0;32m    497\u001b[0m       \u001b[1;32mwith\u001b[0m \u001b[0m_InterpolateFunctionError\u001b[0m\u001b[1;33m(\u001b[0m\u001b[0mself\u001b[0m\u001b[1;33m)\u001b[0m\u001b[1;33m:\u001b[0m\u001b[1;33m\u001b[0m\u001b[1;33m\u001b[0m\u001b[0m\n\u001b[0;32m    498\u001b[0m         \u001b[1;32mif\u001b[0m \u001b[0mcancellation_manager\u001b[0m \u001b[1;32mis\u001b[0m \u001b[1;32mNone\u001b[0m\u001b[1;33m:\u001b[0m\u001b[1;33m\u001b[0m\u001b[1;33m\u001b[0m\u001b[0m\n\u001b[1;32m--> 499\u001b[1;33m           outputs = execute.execute(\n\u001b[0m\u001b[0;32m    500\u001b[0m               \u001b[0mstr\u001b[0m\u001b[1;33m(\u001b[0m\u001b[0mself\u001b[0m\u001b[1;33m.\u001b[0m\u001b[0msignature\u001b[0m\u001b[1;33m.\u001b[0m\u001b[0mname\u001b[0m\u001b[1;33m)\u001b[0m\u001b[1;33m,\u001b[0m\u001b[1;33m\u001b[0m\u001b[1;33m\u001b[0m\u001b[0m\n\u001b[0;32m    501\u001b[0m               \u001b[0mnum_outputs\u001b[0m\u001b[1;33m=\u001b[0m\u001b[0mself\u001b[0m\u001b[1;33m.\u001b[0m\u001b[0m_num_outputs\u001b[0m\u001b[1;33m,\u001b[0m\u001b[1;33m\u001b[0m\u001b[1;33m\u001b[0m\u001b[0m\n",
      "\u001b[1;32m~\\AppData\\Local\\Programs\\Python\\Python310\\lib\\site-packages\\tensorflow\\python\\eager\\execute.py\u001b[0m in \u001b[0;36mquick_execute\u001b[1;34m(op_name, num_outputs, inputs, attrs, ctx, name)\u001b[0m\n\u001b[0;32m     52\u001b[0m   \u001b[1;32mtry\u001b[0m\u001b[1;33m:\u001b[0m\u001b[1;33m\u001b[0m\u001b[1;33m\u001b[0m\u001b[0m\n\u001b[0;32m     53\u001b[0m     \u001b[0mctx\u001b[0m\u001b[1;33m.\u001b[0m\u001b[0mensure_initialized\u001b[0m\u001b[1;33m(\u001b[0m\u001b[1;33m)\u001b[0m\u001b[1;33m\u001b[0m\u001b[1;33m\u001b[0m\u001b[0m\n\u001b[1;32m---> 54\u001b[1;33m     tensors = pywrap_tfe.TFE_Py_Execute(ctx._handle, device_name, op_name,\n\u001b[0m\u001b[0;32m     55\u001b[0m                                         inputs, attrs, num_outputs)\n\u001b[0;32m     56\u001b[0m   \u001b[1;32mexcept\u001b[0m \u001b[0mcore\u001b[0m\u001b[1;33m.\u001b[0m\u001b[0m_NotOkStatusException\u001b[0m \u001b[1;32mas\u001b[0m \u001b[0me\u001b[0m\u001b[1;33m:\u001b[0m\u001b[1;33m\u001b[0m\u001b[1;33m\u001b[0m\u001b[0m\n",
      "\u001b[1;31mKeyboardInterrupt\u001b[0m: "
     ]
    }
   ],
   "source": [
    "from tensorflow.keras.callbacks import EarlyStopping\n",
    "es = EarlyStopping(patience=4, restore_best_weights=True)\n",
    "history = model.fit(X_train, y_train, validation_data=(X_test, y_test), batch_size=1, epochs=50, callbacks=[es])"
   ]
  },
  {
   "cell_type": "code",
   "execution_count": null,
   "id": "881fd44a",
   "metadata": {
    "ExecuteTime": {
     "end_time": "2022-03-01T11:59:32.730202Z",
     "start_time": "2022-03-01T11:59:32.730190Z"
    }
   },
   "outputs": [],
   "source": [
    "def plot_loss(history, title=None):\n",
    "  \n",
    "    # --- LOSS --- \n",
    "    \n",
    "    plt.plot(history.history['loss'])\n",
    "    plt.plot(history.history['val_loss'])\n",
    "    plt.title('Model loss')\n",
    "    plt.ylabel('Loss')\n",
    "    plt.xlabel('Epoch')\n",
    "    plt.ylim((0,1))\n",
    "    plt.legend(['Train', 'Val'], loc='best')\n",
    "    plt.grid(axis=\"x\",linewidth=0.5)\n",
    "    plt.grid(axis=\"y\",linewidth=0.5)\n",
    "\n",
    "plot_loss(history)"
   ]
  },
  {
   "cell_type": "markdown",
   "id": "e0f55788",
   "metadata": {},
   "source": [
    "## Evaluation"
   ]
  },
  {
   "cell_type": "code",
   "execution_count": 115,
   "id": "6164e798",
   "metadata": {
    "ExecuteTime": {
     "end_time": "2022-03-01T11:13:06.172167Z",
     "start_time": "2022-03-01T11:13:06.021417Z"
    }
   },
   "outputs": [
    {
     "name": "stdout",
     "output_type": "stream",
     "text": [
      "10/10 [==============================] - 0s 5ms/step - loss: 0.4645 - mse: 0.4645\n"
     ]
    },
    {
     "data": {
      "text/plain": [
       "[0.46448421478271484, 0.46448421478271484]"
      ]
     },
     "execution_count": 115,
     "metadata": {},
     "output_type": "execute_result"
    }
   ],
   "source": [
    "model.evaluate(X_test,y_test)"
   ]
  },
  {
   "cell_type": "code",
   "execution_count": 36,
   "id": "e556c85f",
   "metadata": {},
   "outputs": [
    {
     "data": {
      "text/plain": [
       "[]"
      ]
     },
     "execution_count": 36,
     "metadata": {},
     "output_type": "execute_result"
    }
   ],
   "source": [
    "tf.config.list_physical_devices('GPU')"
   ]
  },
  {
   "cell_type": "code",
   "execution_count": 116,
   "id": "4a71c03c",
   "metadata": {
    "ExecuteTime": {
     "end_time": "2022-03-01T11:13:06.283904Z",
     "start_time": "2022-03-01T11:13:06.173668Z"
    }
   },
   "outputs": [],
   "source": [
    "y_pred = model.predict(X_test)"
   ]
  },
  {
   "cell_type": "code",
   "execution_count": 127,
   "id": "4abe2b07",
   "metadata": {
    "ExecuteTime": {
     "end_time": "2022-02-28T16:24:51.142970Z",
     "start_time": "2022-02-28T16:24:51.053341Z"
    }
   },
   "outputs": [],
   "source": [
    "# predict_path = os.path.join(os.getcwd(), '..', 'raw_data', 'any_angle')\n",
    "\n",
    "# img_predict = Image.open(os.path.join(predict_path, '2.png'))\n",
    "# image = np.array(img_predict.crop((660,240,1260,840)).resize((64,64)))[:,:,0:3]"
   ]
  },
  {
   "cell_type": "code",
   "execution_count": 29,
   "id": "0fa0530a",
   "metadata": {
    "ExecuteTime": {
     "end_time": "2022-03-01T10:13:09.999538Z",
     "start_time": "2022-03-01T10:13:09.996505Z"
    }
   },
   "outputs": [],
   "source": [
    "def angle(y_all):\n",
    "    angle = []\n",
    "    for y in y_all:\n",
    "        angle2 = math.atan2(y[1], y[0])\n",
    "        angle2 *= 180 / math.pi\n",
    "        if angle2 < 0: angle2 += 360\n",
    "        angle.append(angle2)\n",
    "    return np.array(angle)"
   ]
  },
  {
   "cell_type": "code",
   "execution_count": 121,
   "id": "c92a7cfc",
   "metadata": {
    "ExecuteTime": {
     "end_time": "2022-03-01T11:13:07.584192Z",
     "start_time": "2022-03-01T11:13:07.319906Z"
    }
   },
   "outputs": [
    {
     "data": {
      "image/png": "[encoded data removed]",
      "text/plain": [
       "<Figure size 432x288 with 1 Axes>"
      ]
     },
     "metadata": {
      "needs_background": "light"
     },
     "output_type": "display_data"
    }
   ],
   "source": [
    "test_angle = angle(y_test)\n",
    "pred_angle = angle(y_pred)\n",
    "df = pd.DataFrame({'test_angle': angle(y_test), 'pred_angle': angle(y_pred)})\n",
    "df['gap'] = df['test_angle'] - df['pred_angle']\n",
    "plt.hist(x = df['gap'], bins=200);"
   ]
  },
  {
   "cell_type": "code",
   "execution_count": 122,
   "id": "2e1b3d87",
   "metadata": {
    "ExecuteTime": {
     "end_time": "2022-03-01T11:13:07.595691Z",
     "start_time": "2022-03-01T11:13:07.585497Z"
    }
   },
   "outputs": [
    {
     "data": {
      "text/html": [
       "<div>\n",
       "<style scoped>\n",
       "    .dataframe tbody tr th:only-of-type {\n",
       "        vertical-align: middle;\n",
       "    }\n",
       "\n",
       "    .dataframe tbody tr th {\n",
       "        vertical-align: top;\n",
       "    }\n",
       "\n",
       "    .dataframe thead th {\n",
       "        text-align: right;\n",
       "    }\n",
       "</style>\n",
       "<table border=\"1\" class=\"dataframe\">\n",
       "  <thead>\n",
       "    <tr style=\"text-align: right;\">\n",
       "      <th></th>\n",
       "      <th>test_angle</th>\n",
       "      <th>pred_angle</th>\n",
       "      <th>gap</th>\n",
       "    </tr>\n",
       "  </thead>\n",
       "  <tbody>\n",
       "    <tr>\n",
       "      <th>2</th>\n",
       "      <td>18.080540</td>\n",
       "      <td>315.641386</td>\n",
       "      <td>-297.560845</td>\n",
       "    </tr>\n",
       "    <tr>\n",
       "      <th>12</th>\n",
       "      <td>25.514713</td>\n",
       "      <td>311.772422</td>\n",
       "      <td>-286.257709</td>\n",
       "    </tr>\n",
       "    <tr>\n",
       "      <th>190</th>\n",
       "      <td>87.360904</td>\n",
       "      <td>359.199208</td>\n",
       "      <td>-271.838304</td>\n",
       "    </tr>\n",
       "    <tr>\n",
       "      <th>137</th>\n",
       "      <td>84.134706</td>\n",
       "      <td>294.994729</td>\n",
       "      <td>-210.860023</td>\n",
       "    </tr>\n",
       "    <tr>\n",
       "      <th>132</th>\n",
       "      <td>82.226326</td>\n",
       "      <td>289.959150</td>\n",
       "      <td>-207.732824</td>\n",
       "    </tr>\n",
       "    <tr>\n",
       "      <th>...</th>\n",
       "      <td>...</td>\n",
       "      <td>...</td>\n",
       "      <td>...</td>\n",
       "    </tr>\n",
       "    <tr>\n",
       "      <th>227</th>\n",
       "      <td>318.344776</td>\n",
       "      <td>66.799395</td>\n",
       "      <td>251.545380</td>\n",
       "    </tr>\n",
       "    <tr>\n",
       "      <th>54</th>\n",
       "      <td>266.115494</td>\n",
       "      <td>13.831715</td>\n",
       "      <td>252.283779</td>\n",
       "    </tr>\n",
       "    <tr>\n",
       "      <th>220</th>\n",
       "      <td>333.776791</td>\n",
       "      <td>80.296734</td>\n",
       "      <td>253.480056</td>\n",
       "    </tr>\n",
       "    <tr>\n",
       "      <th>246</th>\n",
       "      <td>312.765348</td>\n",
       "      <td>58.484711</td>\n",
       "      <td>254.280636</td>\n",
       "    </tr>\n",
       "    <tr>\n",
       "      <th>232</th>\n",
       "      <td>332.069540</td>\n",
       "      <td>73.337815</td>\n",
       "      <td>258.731725</td>\n",
       "    </tr>\n",
       "  </tbody>\n",
       "</table>\n",
       "<p>300 rows × 3 columns</p>\n",
       "</div>"
      ],
      "text/plain": [
       "     test_angle  pred_angle         gap\n",
       "2     18.080540  315.641386 -297.560845\n",
       "12    25.514713  311.772422 -286.257709\n",
       "190   87.360904  359.199208 -271.838304\n",
       "137   84.134706  294.994729 -210.860023\n",
       "132   82.226326  289.959150 -207.732824\n",
       "..          ...         ...         ...\n",
       "227  318.344776   66.799395  251.545380\n",
       "54   266.115494   13.831715  252.283779\n",
       "220  333.776791   80.296734  253.480056\n",
       "246  312.765348   58.484711  254.280636\n",
       "232  332.069540   73.337815  258.731725\n",
       "\n",
       "[300 rows x 3 columns]"
      ]
     },
     "execution_count": 122,
     "metadata": {},
     "output_type": "execute_result"
    }
   ],
   "source": [
    "df.sort_values('gap')"
   ]
  },
  {
   "cell_type": "code",
   "execution_count": 123,
   "id": "465e30d5",
   "metadata": {
    "ExecuteTime": {
     "end_time": "2022-03-01T11:13:07.601070Z",
     "start_time": "2022-03-01T11:13:07.597138Z"
    }
   },
   "outputs": [
    {
     "data": {
      "text/plain": [
       "78.69866946542255"
      ]
     },
     "execution_count": 123,
     "metadata": {},
     "output_type": "execute_result"
    }
   ],
   "source": [
    "df['gap'][np.abs(df['gap']) < 200].std()"
   ]
  },
  {
   "cell_type": "code",
   "execution_count": null,
   "id": "19b5c94f",
   "metadata": {},
   "outputs": [],
   "source": []
  }
 ],
 "metadata": {
  "kernelspec": {
   "display_name": "Python 3 (ipykernel)",
   "language": "python",
   "name": "python3"
  },
  "language_info": {
   "codemirror_mode": {
    "name": "ipython",
    "version": 3
   },
   "file_extension": ".py",
   "mimetype": "text/x-python",
   "name": "python",
   "nbconvert_exporter": "python",
   "pygments_lexer": "ipython3",
   "version": "3.10.1"
  },
  "toc": {
   "base_numbering": 1,
   "nav_menu": {},
   "number_sections": true,
   "sideBar": true,
   "skip_h1_title": false,
   "title_cell": "Table of Contents",
   "title_sidebar": "Contents",
   "toc_cell": false,
   "toc_position": {},
   "toc_section_display": true,
   "toc_window_display": true
  }
 },
 "nbformat": 4,
 "nbformat_minor": 5
}
